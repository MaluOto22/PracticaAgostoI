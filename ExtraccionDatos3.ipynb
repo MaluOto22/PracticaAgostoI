{
 "cells": [
  {
   "cell_type": "code",
   "execution_count": null,
   "metadata": {},
   "outputs": [],
   "source": [
    "modificando mi nombre"
   ]
  }
 ],
 "metadata": {
  "kernelspec": {
   "display_name": "Python 3.10.6 64-bit",
   "language": "python",
   "name": "python3"
  },
  "language_info": {
   "name": "python",
   "version": "3.10.6"
  },
  "orig_nbformat": 4,
  "vscode": {
   "interpreter": {
    "hash": "5004f994e3aa0378a3817c647b5a3a1a03f554c31e54d350404449431869ab39"
   }
  }
 },
 "nbformat": 4,
 "nbformat_minor": 2
}
